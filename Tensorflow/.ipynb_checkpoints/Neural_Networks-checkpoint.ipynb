{
 "cells": [
  {
   "cell_type": "markdown",
   "metadata": {},
   "source": [
    "## Introduction\n",
    "\n",
    "Tensor flow are array manipulation library.\n",
    "\n",
    "**Tensor** and size dimension array\n",
    "\n",
    "**Tensorflow** functions on tensors. \n",
    "\n",
    "**Tensorflow** a deep learning library more like numpy.  "
   ]
  },
  {
   "cell_type": "code",
   "execution_count": 1,
   "metadata": {
    "collapsed": true
   },
   "outputs": [],
   "source": [
    "import tensorflow as tf"
   ]
  },
  {
   "cell_type": "code",
   "execution_count": 2,
   "metadata": {
    "collapsed": true
   },
   "outputs": [],
   "source": [
    "x1 = tf.constant(5)\n",
    "x2 = tf.constant(6)"
   ]
  },
  {
   "cell_type": "code",
   "execution_count": 6,
   "metadata": {},
   "outputs": [],
   "source": [
    "result = tf.multiply(x1,x2)"
   ]
  },
  {
   "cell_type": "code",
   "execution_count": 7,
   "metadata": {},
   "outputs": [
    {
     "name": "stdout",
     "output_type": "stream",
     "text": [
      "Tensor(\"Mul:0\", shape=(), dtype=int32)\n"
     ]
    }
   ],
   "source": [
    "print(result)"
   ]
  },
  {
   "cell_type": "code",
   "execution_count": 13,
   "metadata": {},
   "outputs": [
    {
     "name": "stdout",
     "output_type": "stream",
     "text": [
      "30\n"
     ]
    }
   ],
   "source": [
    "# starting and running a session\n",
    "\n",
    "sess = tf.Session()  #start\n",
    "print(sess.run(result))\n",
    "sess.close()         #close"
   ]
  },
  {
   "cell_type": "code",
   "execution_count": 20,
   "metadata": {},
   "outputs": [
    {
     "name": "stdout",
     "output_type": "stream",
     "text": [
      "<class 'numpy.int32'>\n",
      "30\n"
     ]
    }
   ],
   "source": [
    "# no closing required  Computation graph of your architecture\n",
    "with tf.Session() as sess:\n",
    "    output = sess.run(result)\n",
    "    print(type(output))\n",
    "    print(output)"
   ]
  },
  {
   "cell_type": "markdown",
   "metadata": {},
   "source": [
    "## Our First Model"
   ]
  },
  {
   "cell_type": "code",
   "execution_count": 33,
   "metadata": {},
   "outputs": [
    {
     "name": "stdout",
     "output_type": "stream",
     "text": [
      "Extracting /data/siavashmortezavi/train-images-idx3-ubyte.gz\n",
      "Extracting /data/siavashmortezavi/train-labels-idx1-ubyte.gz\n",
      "Extracting /data/siavashmortezavi/t10k-images-idx3-ubyte.gz\n",
      "Extracting /data/siavashmortezavi/t10k-labels-idx1-ubyte.gz\n"
     ]
    },
    {
     "data": {
      "text/plain": [
       "'\\n\\nSince one_hot = True\\nchanges the output to be\\n\\n0 = [1,0,0,0,0,0,0,0,0,0]\\n1 = [0,1,0,0,0,0,0,0,0,0]\\n2 = [0,0,1,0,0,0,0,0,0,0]\\n3 = [0,0,0,1,0,0,0,0,0,0]\\n4 = [0,0,0,0,1,0,0,0,0,0]\\n5 = [0,0,0,0,0,1,0,0,0,0]\\n6 = [0,0,0,0,0,0,1,0,0,0]\\n7 = [0,0,0,0,0,0,0,1,0,0]\\n8 = [0,0,0,0,0,0,0,0,1,0]\\n9 = [0,0,0,0,0,0,0,0,0,1]\\n\\n'"
      ]
     },
     "execution_count": 33,
     "metadata": {},
     "output_type": "execute_result"
    }
   ],
   "source": [
    "\"\"\" \n",
    "(feed forward)\n",
    "input > weight > hidden layer 1(activation function) > weights > hidden l 2\n",
    "(activation function) > weigths > ouput layer \n",
    "\n",
    "compare output to intended output > cost or less function (cross entropy)\n",
    "optimizaton function (optimizer) > minimize cost (AdamOptimizer .. SGD, AdaGrad)\n",
    "\n",
    "back propagation\n",
    "\n",
    "feed forward + backprop = epoch\n",
    "\"\"\"\n",
    "from tensorflow.examples.tutorials.mnist import input_data\n",
    "\n",
    "mnist = input_data.read_data_sets(\"/data/siavashmortezavi/\", one_hot=True)\n",
    "\n",
    "\"\"\"\n",
    "\n",
    "Since one_hot = True\n",
    "changes the output to be\n",
    "\n",
    "0 = [1,0,0,0,0,0,0,0,0,0]\n",
    "1 = [0,1,0,0,0,0,0,0,0,0]\n",
    "2 = [0,0,1,0,0,0,0,0,0,0]\n",
    "3 = [0,0,0,1,0,0,0,0,0,0]\n",
    "4 = [0,0,0,0,1,0,0,0,0,0]\n",
    "5 = [0,0,0,0,0,1,0,0,0,0]\n",
    "6 = [0,0,0,0,0,0,1,0,0,0]\n",
    "7 = [0,0,0,0,0,0,0,1,0,0]\n",
    "8 = [0,0,0,0,0,0,0,0,1,0]\n",
    "9 = [0,0,0,0,0,0,0,0,0,1]\n",
    "\n",
    "\"\"\""
   ]
  },
  {
   "cell_type": "code",
   "execution_count": 36,
   "metadata": {},
   "outputs": [],
   "source": [
    "# number of nodes per hidden layer\n",
    "n_nodes_hl1 = 500\n",
    "n_nodes_hl2 = 500\n",
    "n_nodes_hl3 = 500"
   ]
  },
  {
   "cell_type": "code",
   "execution_count": 38,
   "metadata": {
    "collapsed": true
   },
   "outputs": [],
   "source": [
    "# number of classes \n",
    "n_classes = 10\n",
    "#choose how many images to be fed per epoch\n",
    "batch_size = 100"
   ]
  },
  {
   "cell_type": "code",
   "execution_count": null,
   "metadata": {
    "collapsed": true
   },
   "outputs": [],
   "source": [
    "# height x width\n",
    "# by leaving the the extra [None, 784] parameter tensor flow will throw an \n",
    "# error if you attempt to feed a shape that is different from intended shape\n",
    "x = tf.placeholder('float', [None,784]) #flatten 28 by 28\n",
    "y = tf.placeholder('float')"
   ]
  },
  {
   "cell_type": "code",
   "execution_count": 43,
   "metadata": {
    "collapsed": true
   },
   "outputs": [],
   "source": [
    "def neural_network_model(data):\n",
    "    #two values, weights are variables initialized with random normals\n",
    "    #   biases,\n",
    "    # (input_data * weights) + bias, if no input_data allows for activation\n",
    "    hidden_1_layer = {'weights':tf.Variable(\\\n",
    "    tf.random_normal([784, n_nodes_hl1])),'biases':\\\n",
    "                      tf.Variable(tf.random_normal([n_nodes_hl1]))}\n",
    "    hidden_2_layer = {'weights':tf.Variable(\\\n",
    "    tf.random_normal([n_nodes_hl1, n_nodes_hl2])),'biases':\\\n",
    "                      tf.Variable(tf.random_normal([n_nodes_hl2]))}\n",
    "    hidden_3_layer = {'weights':tf.Variable(\\\n",
    "    tf.random_normal([n_nodes_hl2, n_nodes_hl3])),'biases':\\\n",
    "                      tf.Variable(tf.random_normal([n_nodes_hl3]))}\n",
    "    output_layer = {'weights':tf.Variable(\\\n",
    "    tf.random_normal([n_nodes_hl3, n_classes])),'biases':\\\n",
    "                      tf.Variable(tf.random_normal([n_classes]))}\n",
    "    \n",
    "    # (input_data * weights) + bias, if no input_data allows for activation\n",
    "    l1 = tf.add(\\\n",
    "         tf.matmul(data,hidden_1_layer['weights'])\\\n",
    "         ,hidden_1_layer['biases'])\n",
    "    #threshold/activation function\n",
    "    l1 = tf.nn.relu(l1)\n",
    "   \n",
    "\n",
    "    l2 = tf.add(\\\n",
    "         tf.matmul(l1,hidden_2_layer['weights'])\\\n",
    "         ,hidden_2_layer['biases'])\n",
    "    l2 = tf.nn.relu(l2)\n",
    "    \n",
    "    \n",
    "    l3 = tf.add(\\\n",
    "         tf.matmul(l2,hidden_3_layer['weights'])\\\n",
    "         ,hidden_3_layer['biases'])\n",
    "    l3 = tf.nn.relu(l3)\n",
    "    \n",
    "    output = tf.add(\\\n",
    "         tf.matmul(l3,output_layer['weights'])\\\n",
    "         ,output_layer['biases'])\n",
    "    \n",
    "    return output"
   ]
  },
  {
   "cell_type": "code",
   "execution_count": null,
   "metadata": {
    "collapsed": true
   },
   "outputs": [],
   "source": []
  },
  {
   "cell_type": "code",
   "execution_count": null,
   "metadata": {
    "collapsed": true
   },
   "outputs": [],
   "source": []
  }
 ],
 "metadata": {
  "kernelspec": {
   "display_name": "Python 3",
   "language": "python",
   "name": "python3"
  },
  "language_info": {
   "codemirror_mode": {
    "name": "ipython",
    "version": 3
   },
   "file_extension": ".py",
   "mimetype": "text/x-python",
   "name": "python",
   "nbconvert_exporter": "python",
   "pygments_lexer": "ipython3",
   "version": "3.6.2"
  }
 },
 "nbformat": 4,
 "nbformat_minor": 2
}
